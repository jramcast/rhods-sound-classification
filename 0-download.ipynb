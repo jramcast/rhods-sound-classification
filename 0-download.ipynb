{
 "cells": [
  {
   "cell_type": "markdown",
   "id": "2bf7a537-a6cc-4899-b790-05e8521b0c6c",
   "metadata": {},
   "source": [
    "# Download the Dataset\n",
    "\n",
    "This demo uses the *ESC-10* dataset, which contains 400 sound clips in WAW format.\n",
    "Each clip is associated with an audio class, such as `dog`.\n",
    "\n",
    "ESC-10 a subset of *ESC-50*, a larger dataset that contains 2000 sound clips.\n",
    "\n",
    "For more information about ESC-10 and ESC-50, refer to https://github.com/karolpiczak/ESC-50#license and the following article:\n",
    "\n",
    "> K. J. Piczak. ESC: Dataset for Environmental Sound Classification. Proceedings of the 23rd Annual ACM Conference on Multimedia, Brisbane, Australia, 2015.\n",
    "\n",
    "To get ESC-10, you must download ESC-50 first, and then filter the samples labelled as `esc-10` from ESC-50.\n",
    "The size of ESC-50 is approximately 600MB."
   ]
  },
  {
   "cell_type": "code",
   "execution_count": 1,
   "id": "c2b48e25-c747-4427-bb3e-c2b9413bd974",
   "metadata": {},
   "outputs": [
    {
     "name": "stdout",
     "output_type": "stream",
     "text": [
      "--2023-05-19 09:54:48--  https://github.com/karoldvl/ESC-50/archive/master.zip\n",
      "Resolving github.com (github.com)... 140.82.113.4\n",
      "Connecting to github.com (github.com)|140.82.113.4|:443... connected.\n",
      "HTTP request sent, awaiting response... 301 Moved Permanently\n",
      "Location: https://github.com/karolpiczak/ESC-50/archive/master.zip [following]\n",
      "--2023-05-19 09:54:48--  https://github.com/karolpiczak/ESC-50/archive/master.zip\n",
      "Reusing existing connection to github.com:443.\n",
      "HTTP request sent, awaiting response... 302 Found\n",
      "Location: https://codeload.github.com/karolpiczak/ESC-50/zip/refs/heads/master [following]\n",
      "--2023-05-19 09:54:48--  https://codeload.github.com/karolpiczak/ESC-50/zip/refs/heads/master\n",
      "Resolving codeload.github.com (codeload.github.com)... 140.82.114.10\n",
      "Connecting to codeload.github.com (codeload.github.com)|140.82.114.10|:443... connected.\n",
      "HTTP request sent, awaiting response... 200 OK\n",
      "Length: unspecified [application/zip]\n",
      "Saving to: ‘data/master.zip.1’\n",
      "\n",
      "master.zip.1            [<=>                 ] 615.78M  11.3MB/s    in 50s     \n",
      "\n",
      "2023-05-19 09:55:39 (12.2 MB/s) - ‘data/master.zip.1’ saved [645694876]\n",
      "\n"
     ]
    }
   ],
   "source": [
    "!wget -P data https://github.com/karoldvl/ESC-50/archive/master.zip"
   ]
  },
  {
   "cell_type": "code",
   "execution_count": 5,
   "id": "1fa827ed-f32e-4138-9551-8db1d6b890e2",
   "metadata": {},
   "outputs": [],
   "source": [
    "!unzip -oq data/master.zip -d data/"
   ]
  },
  {
   "cell_type": "markdown",
   "id": "cf24f9d1-850b-4bb7-89a8-11c74fe4368e",
   "metadata": {},
   "source": [
    "Verify that the data has been extracted"
   ]
  },
  {
   "cell_type": "code",
   "execution_count": 10,
   "id": "91509057-c349-4f36-a087-dfb5422bb00f",
   "metadata": {},
   "outputs": [
    {
     "name": "stdout",
     "output_type": "stream",
     "text": [
      "total 1372\n",
      "drwxrwsr-x. 2 1008210000 1008210000  69632 May 19 09:57 audio\n",
      "-rw-r--r--. 1 1008210000 1008210000 999382 Feb 14 10:41 esc50.gif\n",
      "-rw-r--r--. 1 1008210000 1008210000 284523 Feb 14 10:41 LICENSE\n",
      "drwxrwsr-x. 2 1008210000 1008210000   4096 May 19 09:57 meta\n",
      "-rw-r--r--. 1 1008210000 1008210000     42 Feb 14 10:41 pytest.ini\n",
      "-rw-r--r--. 1 1008210000 1008210000  29987 Feb 14 10:41 README.md\n",
      "-rw-r--r--. 1 1008210000 1008210000     45 Feb 14 10:41 requirements.txt\n",
      "drwxrwsr-x. 2 1008210000 1008210000   4096 May 19 09:57 tests\n"
     ]
    }
   ],
   "source": [
    "!ls -l data/ESC-50-master"
   ]
  }
 ],
 "metadata": {
  "kernelspec": {
   "display_name": "Python 3.9.14",
   "language": "python",
   "name": "python3"
  },
  "language_info": {
   "codemirror_mode": {
    "name": "ipython",
    "version": 3
   },
   "file_extension": ".py",
   "mimetype": "text/x-python",
   "name": "python",
   "nbconvert_exporter": "python",
   "pygments_lexer": "ipython3",
   "version": "3.9.14"
  }
 },
 "nbformat": 4,
 "nbformat_minor": 5
}
